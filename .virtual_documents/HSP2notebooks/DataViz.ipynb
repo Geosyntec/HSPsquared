from numpy.random import rand
from pandas import options, read_hdf, DataFrame, Series, date_range
from matplotlib import pyplot as plt

from HSP2tools import readWDM, readUCI, fetchtable, readCSV
from HSP2 import main, mainDoE, versions

# pandas display options
options.display.max_rows    = 20
options.display.max_columns = 14
options.display.float_format = '{:.2f}'.format  # display 2 digits after the decimal point

get_ipython().run_line_magic("matplotlib", " inline")


# make a new copy of the tutorial's data - trying things out doesn't hurt the orginal.
get_ipython().getoutput("xcopy TutorialData  Data /q /c /y")


# define file name
hdfname = 'Data/test10.h5'


ts_hydrology = read_hdf(hdfname, '/RESULTS/RCHRES_R005/HYDR')
ts_sedimentt = read_hdf(hdfname, '/RESULTS/RCHRES_R005/SEDTRN')
ts_nutrients = read_hdf(hdfname, '/RESULTS/RCHRES_R005/NUTRX')


import holoviews as hv
from holoviews import opts
from holoviews.plotting.links import RangeToolLink
hv.extension('bokeh')


ts_hydrology.index.name = 'Date'
flow_curve = hv.Curve(ts_hydrology, 'Date', ('RO', 'Outflow(cms)'))


# set up timeseries
tgt = flow_curve.relabel('Reach 5 Flows').opts(width=600, 
                                                  height=300, 
                                                  tools = ['wheel_zoom', 'box_zoom', 'hover', 'pan', 'reset'],
                                                  toolbar='above')
# set up zoom bar
src = flow_curve.opts(width=600, height=100, yaxis=None, default_tools=[])

# link timeseries and zoom bar
RangeToolLink(src, tgt)

layout = (tgt + src).cols(1)
layout.opts(opts.Layout(shared_axes=False, merge_tools=False))



