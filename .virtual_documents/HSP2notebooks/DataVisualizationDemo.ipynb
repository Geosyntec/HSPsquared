from numpy.random import rand
from pandas import options, read_hdf, DataFrame, Series, date_range
from matplotlib import pyplot as plt

from HSP2tools import readWDM, readUCI, fetchtable, readCSV
from HSP2 import main, mainDoE, versions

# pandas display options
options.display.max_rows    = 20
options.display.max_columns = 14
options.display.float_format = '{:.2f}'.format  # display 2 digits after the decimal point

get_ipython().run_line_magic("matplotlib", " inline")


# make a new copy of the tutorial's data - trying things out doesn't hurt the orginal.
get_ipython().getoutput("xcopy TutorialData  Data /q /c /y")


# define file name
# hdfname = 'Data/test10.h5'
hdfname = '../tests/test10/HSP2results/test10_hsp2_dev2WDM_6.h5'


ts_hydrology = read_hdf(hdfname, '/RESULTS/RCHRES_R005/HYDR')
ts_sedimentt = read_hdf(hdfname, '/RESULTS/RCHRES_R005/SEDTRN')
ts_nutrients = read_hdf(hdfname, '/RESULTS/RCHRES_R005/NUTRX')


import holoviews as hv
from holoviews import opts
from holoviews.plotting.links import RangeToolLink
hv.extension('bokeh')


ts_hydrology.index.name = 'Date'
flow_curve = hv.Curve(ts_hydrology, 'Date', ('RO', 'Outflow (cms)'))


# set up timeseries
tgt = flow_curve.relabel('Reach 5 Outflow').opts(width=600,
                                                  height=300,
                                                  tools = ['wheel_zoom', 'box_zoom', 'hover', 'pan', 'reset'],
                                                  toolbar='above')
# set up zoom bar
src = flow_curve.opts(width=600, height=100, yaxis=None, default_tools=[])

# link timeseries and zoom bar
RangeToolLink(src, tgt)

layout = (tgt + src).cols(1)
layout.opts(opts.Layout(shared_axes=False, merge_tools=False))


# function 
def PlotHydrology(rch_no, constituent='RO'):
    ts_hydrology = read_hdf(hdfname, '/RESULTS/RCHRES_R00%d/HYDR' % rch_no)
    ts_hydrology.index.name = 'Date'
    flow_curve = hv.Curve(ts_hydrology, 'Date', constituent)
    # set up timeseries
    tgt = flow_curve.relabel('Reach %d' % rch_no).opts(width=600,
                                                      height=300,
                                                      tools = ['wheel_zoom', 'box_zoom', 'hover', 'pan', 'reset'],
                                                      toolbar='above')
    # set up zoom bar
    src = flow_curve.opts(width=600, height=100, yaxis=None, default_tools=[])

    # link timeseries and zoom bar
    RangeToolLink(src, tgt)

    layout = (tgt + src).cols(1)
    return layout.opts(opts.Layout(shared_axes=False, merge_tools=False))
    


PlotHydrology(4)


PlotHydrology(4, constituent='PRSUPY')


ts_nutrients.index.name = 'Date'
nutrient_inflow_curve = hv.Curve(ts_nutrients, 'Date', ('TNUIF1', 'Total NO3 (kg/ivld)'), label="inflow")
nutrient_outflow_curve = hv.Curve(ts_nutrients, 'Date', ('TNUCF1_1', 'Total NO3 (kg/ivld)'), label="outflow")


# hv.Overlay(list_of_curves).opts()
list_of_curves = [nutrient_inflow_curve, nutrient_outflow_curve] 

# set up timeseries
source_curves, target_curves  = [], []
for curve in list_of_curves:
    # Without relabel, the curve somehow shares the ranging properties. opts with clone=True doesn't help either.
    src = curve.relabel('').opts(width=600, height=100, yaxis=None, default_tools=[]) 
    tgt = curve
    source_curves.append(src)
    target_curves.append(tgt) 

# link RangeTool for the first curves in the list.
RangeToolLink(source_curves[0],target_curves[0])

#Overlay the source and target curves
overlaid_plot_src = hv.Overlay(source_curves) 
overlaid_plot_tgt = hv.Overlay(list_of_curves).relabel('Reach 5 NO3').opts(width=600,
                                                             height=300,
                                                             tools = ['wheel_zoom', 'box_zoom', 'hover', 'pan', 'reset'],
                                                             toolbar='above',
                                                             ylim = (-0.5, 11))

# layout the plot and render
layout = (overlaid_plot_tgt + overlaid_plot_src).cols(1)
layout.opts(merge_tools=False,shared_axes=False)


ts_sedimentt.index.name = 'Date'
sediment_inflow_curve = hv.Curve(ts_sedimentt, 'Date', ('ISED1', 'Total Sand (ton/ivld)'), label="inflow")
sediment_outflow_curve = hv.Curve(ts_sedimentt, 'Date', ('ROSED1', 'Total Sand (ton/ivld)'), label="outflow")


# hv.Overlay(list_of_curves).opts()
list_of_curves = [sediment_inflow_curve, sediment_outflow_curve]

# set up timeseries
source_curves, target_curves  = [], []
for curve in list_of_curves:
    # Without relabel, the curve somehow shares the ranging properties. opts with clone=True doesn't help either.
    src = curve.relabel('').opts(width=600, height=100, yaxis=None, default_tools=[]) 
    tgt = curve
    source_curves.append(src)
    target_curves.append(tgt) 

# link RangeTool for the first curves in the list.
RangeToolLink(source_curves[0],target_curves[0])

#Overlay the source and target curves
overlaid_plot_src = hv.Overlay(source_curves) 
overlaid_plot_tgt = hv.Overlay(list_of_curves).relabel('Reach 5 Sand').opts(width=600,
                                                             height=300,
                                                             tools = ['wheel_zoom', 'box_zoom', 'hover', 'pan', 'reset'],
                                                             toolbar='above',
                                                             ylim = (-0.5, 7))

# layout the plot and render
layout = (overlaid_plot_tgt + overlaid_plot_src).cols(1)
layout.opts(merge_tools=False,shared_axes=False)
